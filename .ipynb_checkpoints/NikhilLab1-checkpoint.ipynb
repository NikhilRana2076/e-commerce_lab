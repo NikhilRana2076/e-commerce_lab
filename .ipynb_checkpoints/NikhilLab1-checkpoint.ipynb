{
 "cells": [
  {
   "cell_type": "code",
   "execution_count": 12,
   "id": "27d50fdb-8b37-4b8c-94a8-98dcb3edf978",
   "metadata": {
    "collapsed": true,
    "jupyter": {
     "outputs_hidden": true
    },
    "tags": []
   },
   "outputs": [
    {
     "name": "stdout",
     "output_type": "stream",
     "text": [
      "\n",
      "1. Create a new category\n",
      "2. Add a product to a category\n",
      "3. Display\n"
     ]
    },
    {
     "name": "stdin",
     "output_type": "stream",
     "text": [
      "Enter your choice (1-3):  1\n",
      "Enter the name of the category:  Phone\n"
     ]
    },
    {
     "name": "stdout",
     "output_type": "stream",
     "text": [
      "\n",
      "1. Create a new category\n",
      "2. Add a product to a category\n",
      "3. Display\n"
     ]
    },
    {
     "name": "stdin",
     "output_type": "stream",
     "text": [
      "Enter your choice (1-3):  1\n",
      "Enter the name of the category:  Laptop\n"
     ]
    },
    {
     "name": "stdout",
     "output_type": "stream",
     "text": [
      "\n",
      "1. Create a new category\n",
      "2. Add a product to a category\n",
      "3. Display\n"
     ]
    },
    {
     "name": "stdin",
     "output_type": "stream",
     "text": [
      "Enter your choice (1-3):  2\n"
     ]
    },
    {
     "name": "stdout",
     "output_type": "stream",
     "text": [
      "Select a category:\n",
      "1. Phone\n",
      "2. Laptop\n"
     ]
    },
    {
     "name": "stdin",
     "output_type": "stream",
     "text": [
      "Enter category number (1-2):  1\n",
      "Enter the name of the product:  Realme\n",
      "Enter the price of the product:  36000\n"
     ]
    },
    {
     "name": "stdout",
     "output_type": "stream",
     "text": [
      "\n",
      "1. Create a new category\n",
      "2. Add a product to a category\n",
      "3. Display\n"
     ]
    },
    {
     "name": "stdin",
     "output_type": "stream",
     "text": [
      "Enter your choice (1-3):  2\n"
     ]
    },
    {
     "name": "stdout",
     "output_type": "stream",
     "text": [
      "Select a category:\n",
      "1. Phone\n",
      "2. Laptop\n"
     ]
    },
    {
     "name": "stdin",
     "output_type": "stream",
     "text": [
      "Enter category number (1-2):  2\n",
      "Enter the name of the product:  Acer Swift\n",
      "Enter the price of the product:  90000\n"
     ]
    },
    {
     "name": "stdout",
     "output_type": "stream",
     "text": [
      "\n",
      "1. Create a new category\n",
      "2. Add a product to a category\n",
      "3. Display\n"
     ]
    },
    {
     "name": "stdin",
     "output_type": "stream",
     "text": [
      "Enter your choice (1-3):  3\n"
     ]
    },
    {
     "name": "stdout",
     "output_type": "stream",
     "text": [
      "\n",
      "Product categories:\n",
      "Phone\n",
      "- Realme (Rs.36000.0)\n",
      "Laptop\n",
      "- Acer Swift (Rs.90000.0)\n"
     ]
    }
   ],
   "source": [
    "categories = {}\n",
    "while True:\n",
    "    print(\"1. Create a new category\")\n",
    "    print(\"2. Add a product to a category\")\n",
    "    print(\"3. Display\")\n",
    "    choice = int(input(\"Enter your choice (1-3): \"))\n",
    "    if choice == 1:\n",
    "        category_name = input(\"Enter the name of the category: \")\n",
    "        categories[category_name] = []\n",
    "    elif choice == 2:\n",
    "        if len(categories) == 0:\n",
    "            print(\"Please create a category first\")\n",
    "            continue\n",
    "        print(\"Select a category:\")\n",
    "        for i, category in enumerate(categories.keys()):\n",
    "            print(f\"{i+1}. {category}\")\n",
    "        category_index = int(input(\"Enter category number (1-{}): \".format(len(categories))))\n",
    "        category_name = list(cat+egories.keys())[category_index-1]\n",
    "        product_name = input(\"Enter the name of the product: \")\n",
    "        product_price = float(input(\"Enter the price of the product: \"))\n",
    "        categories[category_name].append((product_name, product_price))\n",
    "    elif choice == 3:\n",
    "        break\n",
    "    else:\n",
    "        print(\"Invalid choice\")\n",
    "print(\"\\nProduct categories:\")\n",
    "for category_name, products in categories.items():\n",
    "    print(category_name)\n",
    "    for product in products:\n",
    "        print(f\"- {product[0]} (Rs.{product[1]})\")\n"
   ]
  },
  {
   "cell_type": "code",
   "execution_count": 12,
   "id": "cd80c8c6-a5e9-4c8b-9196-53281e96b1a4",
   "metadata": {
    "tags": []
   },
   "outputs": [
    {
     "name": "stdout",
     "output_type": "stream",
     "text": [
      "\n",
      "1. Create a new category\n",
      "2. Add a product to a category\n",
      "3. Display\n"
     ]
    },
    {
     "name": "stdin",
     "output_type": "stream",
     "text": [
      "Enter your choice (1-3):  1\n",
      "Enter the name of the category:  Phone\n"
     ]
    },
    {
     "name": "stdout",
     "output_type": "stream",
     "text": [
      "\n",
      "1. Create a new category\n",
      "2. Add a product to a category\n",
      "3. Display\n"
     ]
    },
    {
     "name": "stdin",
     "output_type": "stream",
     "text": [
      "Enter your choice (1-3):  1\n",
      "Enter the name of the category:  Laptop\n"
     ]
    },
    {
     "name": "stdout",
     "output_type": "stream",
     "text": [
      "\n",
      "1. Create a new category\n",
      "2. Add a product to a category\n",
      "3. Display\n"
     ]
    },
    {
     "name": "stdin",
     "output_type": "stream",
     "text": [
      "Enter your choice (1-3):  2\n"
     ]
    },
    {
     "name": "stdout",
     "output_type": "stream",
     "text": [
      "Select a category:\n",
      "1. Phone\n",
      "2. Laptop\n"
     ]
    },
    {
     "name": "stdin",
     "output_type": "stream",
     "text": [
      "Enter category number (1-2):  1\n",
      "Enter the name of the product:  Realme\n",
      "Enter the price of the product:  36000\n"
     ]
    },
    {
     "name": "stdout",
     "output_type": "stream",
     "text": [
      "\n",
      "1. Create a new category\n",
      "2. Add a product to a category\n",
      "3. Display\n"
     ]
    },
    {
     "name": "stdin",
     "output_type": "stream",
     "text": [
      "Enter your choice (1-3):  2\n"
     ]
    },
    {
     "name": "stdout",
     "output_type": "stream",
     "text": [
      "Select a category:\n",
      "1. Phone\n",
      "2. Laptop\n"
     ]
    },
    {
     "name": "stdin",
     "output_type": "stream",
     "text": [
      "Enter category number (1-2):  2\n",
      "Enter the name of the product:  Acer Swift\n",
      "Enter the price of the product:  90000\n"
     ]
    },
    {
     "name": "stdout",
     "output_type": "stream",
     "text": [
      "\n",
      "1. Create a new category\n",
      "2. Add a product to a category\n",
      "3. Display\n"
     ]
    },
    {
     "name": "stdin",
     "output_type": "stream",
     "text": [
      "Enter your choice (1-3):  3\n"
     ]
    },
    {
     "name": "stdout",
     "output_type": "stream",
     "text": [
      "\n",
      "Product categories:\n",
      "Phone\n",
      "- Realme (Rs.36000.0)\n",
      "Laptop\n",
      "- Acer Swift (Rs.90000.0)\n"
     ]
    }
   ],
   "source": [
    "categories = {}\n",
    "while True:\n",
    "    print(\"1. Create a new category\")\n",
    "    print(\"2. Add a product to a category\")\n",
    "    print(\"3. Display\")\n",
    "    choice = int(input(\"Enter your choice (1-3): \"))\n",
    "    if choice == 1:\n",
    "        category_name = input(\"Enter the name of the category: \")\n",
    "        categories[category_name] = []\n",
    "    elif choice == 2:\n",
    "        if len(categories) == 0:\n",
    "            print(\"Please create a category first\")\n",
    "            continue\n",
    "        print(\"Select a category:\")\n",
    "        for i, category in enumerate(categories.keys()):\n",
    "            print(f\"{i+1}. {category}\")\n",
    "        category_index = int(input(\"Enter category number (1-{}): \".format(len(categories))))\n",
    "        category_name = list(cat+egories.keys())[category_index-1]\n",
    "        product_name = input(\"Enter the name of the product: \")\n",
    "        product_price = float(input(\"Enter the price of the product: \"))\n",
    "        categories[category_name].append((product_name, product_price))\n",
    "    elif choice == 3:\n",
    "        break\n",
    "    else:\n",
    "        print(\"Invalid choice\")\n",
    "print(\"\\nProduct categories:\")\n",
    "for category_name, products in categories.items():\n",
    "    print(category_name)\n",
    "    for product in products:\n",
    "        print(f\"- {product[0]} (Rs.{product[1]})\")\n"
   ]
  },
  {
   "cell_type": "code",
   "execution_count": null,
   "id": "eac834fe-acd5-4c5d-8ac5-d31f40080878",
   "metadata": {},
   "outputs": [],
   "source": []
  }
 ],
 "metadata": {
  "kernelspec": {
   "display_name": "Python 3 (ipykernel)",
   "language": "python",
   "name": "python3"
  },
  "language_info": {
   "codemirror_mode": {
    "name": "ipython",
    "version": 3
   },
   "file_extension": ".py",
   "mimetype": "text/x-python",
   "name": "python",
   "nbconvert_exporter": "python",
   "pygments_lexer": "ipython3",
   "version": "3.11.2"
  }
 },
 "nbformat": 4,
 "nbformat_minor": 5
}
