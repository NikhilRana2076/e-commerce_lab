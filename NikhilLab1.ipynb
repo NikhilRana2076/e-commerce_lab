{
 "cells": [
  {
   "cell_type": "code",
   "execution_count": 13,
   "id": "ff2f708b-a6c1-4726-bbc6-c3f5eb58f5b3",
   "metadata": {
    "tags": []
   },
   "outputs": [
    {
     "name": "stdout",
     "output_type": "stream",
     "text": [
      "\n",
      "Product List:\n",
      "1. Techlife Ear buds - Rs.2500\n",
      "2. Realme 7 - Rs.36000\n",
      "3. Acer Swift laptop - Rs.90000\n",
      "4. Realme phone Cover - Rs.400\n",
      "5. Realme charger - Rs.200\n",
      "Enter the number of the product you want to add to your cart (or enter '0' to exit):\n"
     ]
    },
    {
     "name": "stdin",
     "output_type": "stream",
     "text": [
      " 7\n"
     ]
    },
    {
     "name": "stdout",
     "output_type": "stream",
     "text": [
      "Invalid selection. Please enter a number between 1 and 5\n",
      "\n",
      "Product List:\n",
      "1. Techlife Ear buds - Rs.2500\n",
      "2. Realme 7 - Rs.36000\n",
      "3. Acer Swift laptop - Rs.90000\n",
      "4. Realme phone Cover - Rs.400\n",
      "5. Realme charger - Rs.200\n",
      "Enter the number of the product you want to add to your cart (or enter '0' to exit):\n"
     ]
    },
    {
     "name": "stdin",
     "output_type": "stream",
     "text": [
      " 1\n"
     ]
    },
    {
     "name": "stdout",
     "output_type": "stream",
     "text": [
      "Techlife Ear buds added to cart.\n",
      "\n",
      "Product List:\n",
      "1. Techlife Ear buds - Rs.2500\n",
      "2. Realme 7 - Rs.36000\n",
      "3. Acer Swift laptop - Rs.90000\n",
      "4. Realme phone Cover - Rs.400\n",
      "5. Realme charger - Rs.200\n",
      "Enter the number of the product you want to add to your cart (or enter '0' to exit):\n"
     ]
    },
    {
     "name": "stdin",
     "output_type": "stream",
     "text": [
      " 2\n"
     ]
    },
    {
     "name": "stdout",
     "output_type": "stream",
     "text": [
      "Realme 7 added to cart.\n",
      "\n",
      "Product List:\n",
      "1. Techlife Ear buds - Rs.2500\n",
      "2. Realme 7 - Rs.36000\n",
      "3. Acer Swift laptop - Rs.90000\n",
      "4. Realme phone Cover - Rs.400\n",
      "5. Realme charger - Rs.200\n",
      "Enter the number of the product you want to add to your cart (or enter '0' to exit):\n"
     ]
    },
    {
     "name": "stdin",
     "output_type": "stream",
     "text": [
      " 0\n"
     ]
    },
    {
     "name": "stdout",
     "output_type": "stream",
     "text": [
      "\n",
      "Cart:\n",
      "Techlife Ear buds - Rs.2500\n",
      "Realme 7 - Rs.36000\n",
      "Total: Rs. 38500\n"
     ]
    }
   ],
   "source": [
    "# Define the product list\n",
    "products = [\n",
    "    {'name': 'Techlife Ear buds', 'price': 2500},\n",
    "    {'name': 'Realme 7', 'price': 36000},\n",
    "    {'name': 'Acer Swift laptop', 'price': 90000},\n",
    "    {'name': 'Realme phone Cover', 'price': 400},\n",
    "    {'name': 'Realme charger', 'price': 200}\n",
    "]\n",
    "\n",
    "# Define an empty cart\n",
    "cart = []\n",
    "\n",
    "# Loop to display the product list and get user input\n",
    "while True:\n",
    "    # Display the product list\n",
    "    print(\"\\nProduct List:\")\n",
    "    for i, product in enumerate(products):\n",
    "        print(f\"{i + 1}. {product['name']} - Rs.{product['price']}\")\n",
    "    print(\"Enter the number of the product you want to add to your cart (or enter '0' to exit):\")\n",
    "    \n",
    "    # Get user input\n",
    "    selection = input()\n",
    "    \n",
    "    # Exit the loop if the user enters 0\n",
    "    if selection == '0':\n",
    "        break\n",
    "    \n",
    "    # Try to convert the user input to an integer\n",
    "    try:\n",
    "        selection = int(selection)\n",
    "    except ValueError:\n",
    "        print(\"Invalid input. Please enter a number.\")\n",
    "        continue\n",
    "    \n",
    "    # Check if the selection is valid\n",
    "    if selection < 1 or selection > len(products):\n",
    "        print(\"Invalid selection. Please enter a number between 1 and\", len(products))\n",
    "        continue\n",
    "    \n",
    "    # Add the selected product to the cart\n",
    "    product = products[selection - 1]\n",
    "    cart.append(product)\n",
    "    print(f\"{product['name']} added to cart.\")\n",
    "    \n",
    "# Display the contents of the cart\n",
    "if len(cart) == 0:\n",
    "    print(\"Your cart is empty.\")\n",
    "else:\n",
    "    print(\"\\nCart:\")\n",
    "    total = 0\n",
    "    for product in cart:\n",
    "        print(f\"{product['name']} - Rs.{product['price']}\")\n",
    "        total += product['price']\n",
    "    print(\"Total: Rs.\",total)\n"
   ]
  },
  {
   "cell_type": "code",
   "execution_count": null,
   "id": "0e7d6c77-42d6-44ff-bb9e-be75924800f4",
   "metadata": {},
   "outputs": [],
   "source": []
  }
 ],
 "metadata": {
  "kernelspec": {
   "display_name": "Python 3 (ipykernel)",
   "language": "python",
   "name": "python3"
  },
  "language_info": {
   "codemirror_mode": {
    "name": "ipython",
    "version": 3
   },
   "file_extension": ".py",
   "mimetype": "text/x-python",
   "name": "python",
   "nbconvert_exporter": "python",
   "pygments_lexer": "ipython3",
   "version": "3.11.2"
  }
 },
 "nbformat": 4,
 "nbformat_minor": 5
}
